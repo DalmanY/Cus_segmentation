{
 "cells": [
  {
   "cell_type": "code",
   "execution_count": 2,
   "metadata": {},
   "outputs": [],
   "source": [
    "import pandas as pd\n",
    "import matplotlib.pyplot as plt\n",
    "import matplotlib as mpl\n",
    "from datetime import datetime\n",
    "import seaborn as sns\n",
    "\n",
    "mpl.rc('font', family = 'Malgun Gothic')"
   ]
  },
  {
   "cell_type": "code",
   "execution_count": 3,
   "metadata": {},
   "outputs": [],
   "source": [
    "df1 = pd.read_csv('CHAI_raw.csv')"
   ]
  },
  {
   "cell_type": "code",
   "execution_count": 4,
   "metadata": {},
   "outputs": [
    {
     "data": {
      "text/plain": [
       "(5623810, 18)"
      ]
     },
     "execution_count": 4,
     "metadata": {},
     "output_type": "execute_result"
    }
   ],
   "source": [
    "df1.shape"
   ]
  },
  {
   "cell_type": "code",
   "execution_count": 5,
   "metadata": {},
   "outputs": [
    {
     "data": {
      "text/plain": [
       "Index(['Unnamed: 0', 'customer_id', 'created_at', 'pre_discount',\n",
       "       'post_discount', 'cashback_amount', 'discount_amount',\n",
       "       'total_promotion', 'sign_up_date', 'push_permission', 'gender',\n",
       "       'is_foreigner', 'merchant_id', 'Ord_Y', 'Ord_YM', 'Ord_YMD', 'Ord_M2',\n",
       "       'Age'],\n",
       "      dtype='object')"
      ]
     },
     "execution_count": 5,
     "metadata": {},
     "output_type": "execute_result"
    }
   ],
   "source": [
    "df1.columns"
   ]
  },
  {
   "cell_type": "code",
   "execution_count": 6,
   "metadata": {},
   "outputs": [],
   "source": [
    "df1 = df1.drop(['Unnamed: 0'], axis=1)"
   ]
  },
  {
   "cell_type": "code",
   "execution_count": 7,
   "metadata": {},
   "outputs": [
    {
     "data": {
      "text/html": [
       "<div>\n",
       "<style scoped>\n",
       "    .dataframe tbody tr th:only-of-type {\n",
       "        vertical-align: middle;\n",
       "    }\n",
       "\n",
       "    .dataframe tbody tr th {\n",
       "        vertical-align: top;\n",
       "    }\n",
       "\n",
       "    .dataframe thead th {\n",
       "        text-align: right;\n",
       "    }\n",
       "</style>\n",
       "<table border=\"1\" class=\"dataframe\">\n",
       "  <thead>\n",
       "    <tr style=\"text-align: right;\">\n",
       "      <th></th>\n",
       "      <th>customer_id</th>\n",
       "      <th>created_at</th>\n",
       "      <th>pre_discount</th>\n",
       "      <th>post_discount</th>\n",
       "      <th>cashback_amount</th>\n",
       "      <th>discount_amount</th>\n",
       "      <th>total_promotion</th>\n",
       "      <th>sign_up_date</th>\n",
       "      <th>push_permission</th>\n",
       "      <th>gender</th>\n",
       "      <th>is_foreigner</th>\n",
       "      <th>merchant_id</th>\n",
       "      <th>Ord_Y</th>\n",
       "      <th>Ord_YM</th>\n",
       "      <th>Ord_YMD</th>\n",
       "      <th>Ord_M2</th>\n",
       "      <th>Age</th>\n",
       "    </tr>\n",
       "  </thead>\n",
       "  <tbody>\n",
       "    <tr>\n",
       "      <th>0</th>\n",
       "      <td>207317</td>\n",
       "      <td>2020-03-22 10:27:52.498</td>\n",
       "      <td>36236</td>\n",
       "      <td>36236</td>\n",
       "      <td>1087</td>\n",
       "      <td>0</td>\n",
       "      <td>1087</td>\n",
       "      <td>2019-11-30 16:48:19.339</td>\n",
       "      <td>True</td>\n",
       "      <td>female</td>\n",
       "      <td>False</td>\n",
       "      <td>9</td>\n",
       "      <td>2020</td>\n",
       "      <td>2020-03</td>\n",
       "      <td>2020-03-22</td>\n",
       "      <td>2020-03</td>\n",
       "      <td>64</td>\n",
       "    </tr>\n",
       "    <tr>\n",
       "      <th>1</th>\n",
       "      <td>95246</td>\n",
       "      <td>2020-03-12 09:41:09.845</td>\n",
       "      <td>12900</td>\n",
       "      <td>12900</td>\n",
       "      <td>387</td>\n",
       "      <td>0</td>\n",
       "      <td>387</td>\n",
       "      <td>2019-07-09 08:21:14.098</td>\n",
       "      <td>True</td>\n",
       "      <td>female</td>\n",
       "      <td>False</td>\n",
       "      <td>6</td>\n",
       "      <td>2020</td>\n",
       "      <td>2020-03</td>\n",
       "      <td>2020-03-12</td>\n",
       "      <td>2020-03</td>\n",
       "      <td>38</td>\n",
       "    </tr>\n",
       "  </tbody>\n",
       "</table>\n",
       "</div>"
      ],
      "text/plain": [
       "   customer_id               created_at  pre_discount  post_discount  \\\n",
       "0       207317  2020-03-22 10:27:52.498         36236          36236   \n",
       "1        95246  2020-03-12 09:41:09.845         12900          12900   \n",
       "\n",
       "   cashback_amount  discount_amount  total_promotion             sign_up_date  \\\n",
       "0             1087                0             1087  2019-11-30 16:48:19.339   \n",
       "1              387                0              387  2019-07-09 08:21:14.098   \n",
       "\n",
       "   push_permission  gender  is_foreigner  merchant_id  Ord_Y   Ord_YM  \\\n",
       "0             True  female         False            9   2020  2020-03   \n",
       "1             True  female         False            6   2020  2020-03   \n",
       "\n",
       "      Ord_YMD   Ord_M2  Age  \n",
       "0  2020-03-22  2020-03   64  \n",
       "1  2020-03-12  2020-03   38  "
      ]
     },
     "execution_count": 7,
     "metadata": {},
     "output_type": "execute_result"
    }
   ],
   "source": [
    "df1.head(2)"
   ]
  },
  {
   "cell_type": "code",
   "execution_count": 8,
   "metadata": {},
   "outputs": [
    {
     "name": "stdout",
     "output_type": "stream",
     "text": [
      "<class 'pandas.core.frame.DataFrame'>\n",
      "RangeIndex: 5623810 entries, 0 to 5623809\n",
      "Data columns (total 17 columns):\n",
      " #   Column           Dtype \n",
      "---  ------           ----- \n",
      " 0   customer_id      int64 \n",
      " 1   created_at       object\n",
      " 2   pre_discount     int64 \n",
      " 3   post_discount    int64 \n",
      " 4   cashback_amount  int64 \n",
      " 5   discount_amount  int64 \n",
      " 6   total_promotion  int64 \n",
      " 7   sign_up_date     object\n",
      " 8   push_permission  bool  \n",
      " 9   gender           object\n",
      " 10  is_foreigner     bool  \n",
      " 11  merchant_id      int64 \n",
      " 12  Ord_Y            int64 \n",
      " 13  Ord_YM           object\n",
      " 14  Ord_YMD          object\n",
      " 15  Ord_M2           object\n",
      " 16  Age              int64 \n",
      "dtypes: bool(2), int64(9), object(6)\n",
      "memory usage: 654.3+ MB\n"
     ]
    }
   ],
   "source": [
    "df1.info()"
   ]
  },
  {
   "cell_type": "code",
   "execution_count": 9,
   "metadata": {},
   "outputs": [],
   "source": [
    "df1 = df1[['customer_id', 'created_at', 'pre_discount','post_discount', 'cashback_amount', 'discount_amount',\n",
    "                  'total_promotion', 'sign_up_date', 'push_permission', 'gender','is_foreigner', 'merchant_id',\n",
    "                  'Ord_Y', 'Ord_YM', 'Ord_YMD', 'Age']]"
   ]
  },
  {
   "cell_type": "code",
   "execution_count": 54,
   "metadata": {
    "collapsed": true
   },
   "outputs": [
    {
     "data": {
      "text/plain": [
       "3     626313\n",
       "9     626019\n",
       "4     625101\n",
       "8     624806\n",
       "6     624720\n",
       "7     624287\n",
       "5     624215\n",
       "2     624058\n",
       "1     312192\n",
       "10    312099\n",
       "Name: merchant_id, dtype: int64"
      ]
     },
     "execution_count": 54,
     "metadata": {},
     "output_type": "execute_result"
    }
   ],
   "source": [
    "df1['merchant_id'].value_counts()"
   ]
  },
  {
   "cell_type": "code",
   "execution_count": 51,
   "metadata": {},
   "outputs": [],
   "source": [
    "# Ageband 만들기\n",
    "df1['Ageband'] = pd.cut(df1.Age, bins=[0, 20, 30, 40, 50, 60, 70], labels=['u20', '20s', '30s', '40s', '50s', '60s'] )"
   ]
  },
  {
   "cell_type": "code",
   "execution_count": 149,
   "metadata": {},
   "outputs": [
    {
     "data": {
      "text/html": [
       "<div>\n",
       "<style scoped>\n",
       "    .dataframe tbody tr th:only-of-type {\n",
       "        vertical-align: middle;\n",
       "    }\n",
       "\n",
       "    .dataframe tbody tr th {\n",
       "        vertical-align: top;\n",
       "    }\n",
       "\n",
       "    .dataframe thead th {\n",
       "        text-align: right;\n",
       "    }\n",
       "</style>\n",
       "<table border=\"1\" class=\"dataframe\">\n",
       "  <thead>\n",
       "    <tr style=\"text-align: right;\">\n",
       "      <th></th>\n",
       "      <th>customer_id</th>\n",
       "      <th>created_at</th>\n",
       "      <th>pre_discount</th>\n",
       "      <th>post_discount</th>\n",
       "      <th>cashback_amount</th>\n",
       "      <th>discount_amount</th>\n",
       "      <th>total_promotion</th>\n",
       "      <th>push_permission</th>\n",
       "      <th>gender</th>\n",
       "      <th>is_foreigner</th>\n",
       "      <th>merchant_id</th>\n",
       "      <th>Ord_Y</th>\n",
       "      <th>Ord_YM</th>\n",
       "      <th>Ord_YMD</th>\n",
       "      <th>Ord_M2</th>\n",
       "      <th>Age</th>\n",
       "    </tr>\n",
       "  </thead>\n",
       "  <tbody>\n",
       "    <tr>\n",
       "      <th>0</th>\n",
       "      <td>207317</td>\n",
       "      <td>2020-03-22 10:27:52.498</td>\n",
       "      <td>36236</td>\n",
       "      <td>36236</td>\n",
       "      <td>1087</td>\n",
       "      <td>0</td>\n",
       "      <td>1087</td>\n",
       "      <td>True</td>\n",
       "      <td>female</td>\n",
       "      <td>False</td>\n",
       "      <td>9</td>\n",
       "      <td>2020</td>\n",
       "      <td>2020-03</td>\n",
       "      <td>2020-03-22</td>\n",
       "      <td>2020-03</td>\n",
       "      <td>64</td>\n",
       "    </tr>\n",
       "    <tr>\n",
       "      <th>1</th>\n",
       "      <td>95246</td>\n",
       "      <td>2020-03-12 09:41:09.845</td>\n",
       "      <td>12900</td>\n",
       "      <td>12900</td>\n",
       "      <td>387</td>\n",
       "      <td>0</td>\n",
       "      <td>387</td>\n",
       "      <td>True</td>\n",
       "      <td>female</td>\n",
       "      <td>False</td>\n",
       "      <td>6</td>\n",
       "      <td>2020</td>\n",
       "      <td>2020-03</td>\n",
       "      <td>2020-03-12</td>\n",
       "      <td>2020-03</td>\n",
       "      <td>38</td>\n",
       "    </tr>\n",
       "  </tbody>\n",
       "</table>\n",
       "</div>"
      ],
      "text/plain": [
       "   customer_id               created_at  pre_discount  post_discount  \\\n",
       "0       207317  2020-03-22 10:27:52.498         36236          36236   \n",
       "1        95246  2020-03-12 09:41:09.845         12900          12900   \n",
       "\n",
       "   cashback_amount  discount_amount  total_promotion  push_permission  gender  \\\n",
       "0             1087                0             1087             True  female   \n",
       "1              387                0              387             True  female   \n",
       "\n",
       "   is_foreigner  merchant_id  Ord_Y   Ord_YM     Ord_YMD   Ord_M2  Age  \n",
       "0         False            9   2020  2020-03  2020-03-22  2020-03   64  \n",
       "1         False            6   2020  2020-03  2020-03-12  2020-03   38  "
      ]
     },
     "execution_count": 149,
     "metadata": {},
     "output_type": "execute_result"
    }
   ],
   "source": [
    "df1.head(2)"
   ]
  },
  {
   "cell_type": "code",
   "execution_count": 10,
   "metadata": {
    "scrolled": true
   },
   "outputs": [],
   "source": [
    "PT1 = df1[['customer_id', 'merchant_id']].drop_duplicates(['customer_id', 'merchant_id']) #두컬럼만 남기고 MC개수세기\n",
    "PT1 = pd.pivot_table(data=PT1, index=['customer_id' ], values='merchant_id', aggfunc='count')"
   ]
  },
  {
   "cell_type": "code",
   "execution_count": 11,
   "metadata": {},
   "outputs": [
    {
     "data": {
      "text/plain": [
       "(544921, 1)"
      ]
     },
     "execution_count": 11,
     "metadata": {},
     "output_type": "execute_result"
    }
   ],
   "source": [
    "PT1.shape"
   ]
  },
  {
   "cell_type": "code",
   "execution_count": 95,
   "metadata": {},
   "outputs": [
    {
     "data": {
      "text/html": [
       "<div>\n",
       "<style scoped>\n",
       "    .dataframe tbody tr th:only-of-type {\n",
       "        vertical-align: middle;\n",
       "    }\n",
       "\n",
       "    .dataframe tbody tr th {\n",
       "        vertical-align: top;\n",
       "    }\n",
       "\n",
       "    .dataframe thead th {\n",
       "        text-align: right;\n",
       "    }\n",
       "</style>\n",
       "<table border=\"1\" class=\"dataframe\">\n",
       "  <thead>\n",
       "    <tr style=\"text-align: right;\">\n",
       "      <th></th>\n",
       "      <th>index</th>\n",
       "      <th>customer_id</th>\n",
       "      <th>NoofMC</th>\n",
       "    </tr>\n",
       "  </thead>\n",
       "  <tbody>\n",
       "    <tr>\n",
       "      <th>0</th>\n",
       "      <td>0</td>\n",
       "      <td>1</td>\n",
       "      <td>2</td>\n",
       "    </tr>\n",
       "    <tr>\n",
       "      <th>1</th>\n",
       "      <td>1</td>\n",
       "      <td>2</td>\n",
       "      <td>2</td>\n",
       "    </tr>\n",
       "    <tr>\n",
       "      <th>2</th>\n",
       "      <td>2</td>\n",
       "      <td>3</td>\n",
       "      <td>1</td>\n",
       "    </tr>\n",
       "    <tr>\n",
       "      <th>3</th>\n",
       "      <td>3</td>\n",
       "      <td>4</td>\n",
       "      <td>5</td>\n",
       "    </tr>\n",
       "    <tr>\n",
       "      <th>4</th>\n",
       "      <td>4</td>\n",
       "      <td>5</td>\n",
       "      <td>4</td>\n",
       "    </tr>\n",
       "    <tr>\n",
       "      <th>5</th>\n",
       "      <td>5</td>\n",
       "      <td>6</td>\n",
       "      <td>2</td>\n",
       "    </tr>\n",
       "    <tr>\n",
       "      <th>6</th>\n",
       "      <td>6</td>\n",
       "      <td>7</td>\n",
       "      <td>1</td>\n",
       "    </tr>\n",
       "    <tr>\n",
       "      <th>7</th>\n",
       "      <td>7</td>\n",
       "      <td>8</td>\n",
       "      <td>1</td>\n",
       "    </tr>\n",
       "    <tr>\n",
       "      <th>8</th>\n",
       "      <td>8</td>\n",
       "      <td>9</td>\n",
       "      <td>1</td>\n",
       "    </tr>\n",
       "    <tr>\n",
       "      <th>9</th>\n",
       "      <td>9</td>\n",
       "      <td>10</td>\n",
       "      <td>2</td>\n",
       "    </tr>\n",
       "  </tbody>\n",
       "</table>\n",
       "</div>"
      ],
      "text/plain": [
       "   index  customer_id  NoofMC\n",
       "0      0            1       2\n",
       "1      1            2       2\n",
       "2      2            3       1\n",
       "3      3            4       5\n",
       "4      4            5       4\n",
       "5      5            6       2\n",
       "6      6            7       1\n",
       "7      7            8       1\n",
       "8      8            9       1\n",
       "9      9           10       2"
      ]
     },
     "execution_count": 95,
     "metadata": {},
     "output_type": "execute_result"
    }
   ],
   "source": [
    "PT1 = PT1.sort_values(by='customer_id').reset_index()\n",
    "PT1.rename(columns={'merchant_id': 'NoofMC'}, inplace=True)\n",
    "#.drop(['index'], axis=1)\n",
    "# PT1 = PT1.reset_index()\n",
    "PT1.head(10)"
   ]
  },
  {
   "cell_type": "code",
   "execution_count": 96,
   "metadata": {},
   "outputs": [
    {
     "data": {
      "text/plain": [
       "(544921, 1)"
      ]
     },
     "execution_count": 96,
     "metadata": {},
     "output_type": "execute_result"
    }
   ],
   "source": [
    "PT2 = pd.pivot_table(data=df1, index=['customer_id' ], values='created_at', aggfunc='count')\n",
    "PT2.rename(columns={'created_at': 'Ord_No'}, inplace=True)\n",
    "PT2.shape"
   ]
  },
  {
   "cell_type": "code",
   "execution_count": 97,
   "metadata": {},
   "outputs": [
    {
     "data": {
      "text/html": [
       "<div>\n",
       "<style scoped>\n",
       "    .dataframe tbody tr th:only-of-type {\n",
       "        vertical-align: middle;\n",
       "    }\n",
       "\n",
       "    .dataframe tbody tr th {\n",
       "        vertical-align: top;\n",
       "    }\n",
       "\n",
       "    .dataframe thead th {\n",
       "        text-align: right;\n",
       "    }\n",
       "</style>\n",
       "<table border=\"1\" class=\"dataframe\">\n",
       "  <thead>\n",
       "    <tr style=\"text-align: right;\">\n",
       "      <th></th>\n",
       "      <th>customer_id</th>\n",
       "      <th>Ord_No</th>\n",
       "    </tr>\n",
       "  </thead>\n",
       "  <tbody>\n",
       "    <tr>\n",
       "      <th>0</th>\n",
       "      <td>1</td>\n",
       "      <td>2</td>\n",
       "    </tr>\n",
       "    <tr>\n",
       "      <th>1</th>\n",
       "      <td>2</td>\n",
       "      <td>2</td>\n",
       "    </tr>\n",
       "    <tr>\n",
       "      <th>2</th>\n",
       "      <td>3</td>\n",
       "      <td>1</td>\n",
       "    </tr>\n",
       "    <tr>\n",
       "      <th>3</th>\n",
       "      <td>4</td>\n",
       "      <td>8</td>\n",
       "    </tr>\n",
       "    <tr>\n",
       "      <th>4</th>\n",
       "      <td>5</td>\n",
       "      <td>6</td>\n",
       "    </tr>\n",
       "    <tr>\n",
       "      <th>5</th>\n",
       "      <td>6</td>\n",
       "      <td>2</td>\n",
       "    </tr>\n",
       "    <tr>\n",
       "      <th>6</th>\n",
       "      <td>7</td>\n",
       "      <td>1</td>\n",
       "    </tr>\n",
       "    <tr>\n",
       "      <th>7</th>\n",
       "      <td>8</td>\n",
       "      <td>1</td>\n",
       "    </tr>\n",
       "    <tr>\n",
       "      <th>8</th>\n",
       "      <td>9</td>\n",
       "      <td>1</td>\n",
       "    </tr>\n",
       "    <tr>\n",
       "      <th>9</th>\n",
       "      <td>10</td>\n",
       "      <td>2</td>\n",
       "    </tr>\n",
       "  </tbody>\n",
       "</table>\n",
       "</div>"
      ],
      "text/plain": [
       "   customer_id  Ord_No\n",
       "0            1       2\n",
       "1            2       2\n",
       "2            3       1\n",
       "3            4       8\n",
       "4            5       6\n",
       "5            6       2\n",
       "6            7       1\n",
       "7            8       1\n",
       "8            9       1\n",
       "9           10       2"
      ]
     },
     "execution_count": 97,
     "metadata": {},
     "output_type": "execute_result"
    }
   ],
   "source": [
    "PT2 = PT2.reset_index()\n",
    "PT2.head(10)"
   ]
  },
  {
   "cell_type": "code",
   "execution_count": 98,
   "metadata": {},
   "outputs": [
    {
     "data": {
      "text/plain": [
       "(544921, 2)"
      ]
     },
     "execution_count": 98,
     "metadata": {},
     "output_type": "execute_result"
    }
   ],
   "source": [
    "PT3 = pd.pivot_table(data=df1, index=['customer_id' ], values=['post_discount', 'total_promotion'],\n",
    "                                     aggfunc='sum')\n",
    "PT3.shape"
   ]
  },
  {
   "cell_type": "code",
   "execution_count": 99,
   "metadata": {},
   "outputs": [
    {
     "data": {
      "text/html": [
       "<div>\n",
       "<style scoped>\n",
       "    .dataframe tbody tr th:only-of-type {\n",
       "        vertical-align: middle;\n",
       "    }\n",
       "\n",
       "    .dataframe tbody tr th {\n",
       "        vertical-align: top;\n",
       "    }\n",
       "\n",
       "    .dataframe thead th {\n",
       "        text-align: right;\n",
       "    }\n",
       "</style>\n",
       "<table border=\"1\" class=\"dataframe\">\n",
       "  <thead>\n",
       "    <tr style=\"text-align: right;\">\n",
       "      <th></th>\n",
       "      <th>customer_id</th>\n",
       "      <th>post_discount</th>\n",
       "      <th>total_promotion</th>\n",
       "    </tr>\n",
       "  </thead>\n",
       "  <tbody>\n",
       "    <tr>\n",
       "      <th>0</th>\n",
       "      <td>1</td>\n",
       "      <td>18960</td>\n",
       "      <td>5370</td>\n",
       "    </tr>\n",
       "    <tr>\n",
       "      <th>1</th>\n",
       "      <td>2</td>\n",
       "      <td>19359</td>\n",
       "      <td>5671</td>\n",
       "    </tr>\n",
       "    <tr>\n",
       "      <th>2</th>\n",
       "      <td>3</td>\n",
       "      <td>13440</td>\n",
       "      <td>4680</td>\n",
       "    </tr>\n",
       "    <tr>\n",
       "      <th>3</th>\n",
       "      <td>4</td>\n",
       "      <td>216980</td>\n",
       "      <td>10660</td>\n",
       "    </tr>\n",
       "    <tr>\n",
       "      <th>4</th>\n",
       "      <td>5</td>\n",
       "      <td>55170</td>\n",
       "      <td>10000</td>\n",
       "    </tr>\n",
       "    <tr>\n",
       "      <th>5</th>\n",
       "      <td>6</td>\n",
       "      <td>27600</td>\n",
       "      <td>4000</td>\n",
       "    </tr>\n",
       "    <tr>\n",
       "      <th>6</th>\n",
       "      <td>7</td>\n",
       "      <td>14900</td>\n",
       "      <td>0</td>\n",
       "    </tr>\n",
       "    <tr>\n",
       "      <th>7</th>\n",
       "      <td>8</td>\n",
       "      <td>82000</td>\n",
       "      <td>3000</td>\n",
       "    </tr>\n",
       "    <tr>\n",
       "      <th>8</th>\n",
       "      <td>9</td>\n",
       "      <td>20100</td>\n",
       "      <td>10000</td>\n",
       "    </tr>\n",
       "    <tr>\n",
       "      <th>9</th>\n",
       "      <td>10</td>\n",
       "      <td>22590</td>\n",
       "      <td>2560</td>\n",
       "    </tr>\n",
       "  </tbody>\n",
       "</table>\n",
       "</div>"
      ],
      "text/plain": [
       "   customer_id  post_discount  total_promotion\n",
       "0            1          18960             5370\n",
       "1            2          19359             5671\n",
       "2            3          13440             4680\n",
       "3            4         216980            10660\n",
       "4            5          55170            10000\n",
       "5            6          27600             4000\n",
       "6            7          14900                0\n",
       "7            8          82000             3000\n",
       "8            9          20100            10000\n",
       "9           10          22590             2560"
      ]
     },
     "execution_count": 99,
     "metadata": {},
     "output_type": "execute_result"
    }
   ],
   "source": [
    "PT3 = PT3.reset_index()\n",
    "PT3.head(10)"
   ]
  },
  {
   "cell_type": "code",
   "execution_count": 100,
   "metadata": {},
   "outputs": [
    {
     "data": {
      "text/plain": [
       "Index(['customer_id', 'post_discount', 'total_promotion'], dtype='object')"
      ]
     },
     "execution_count": 100,
     "metadata": {},
     "output_type": "execute_result"
    }
   ],
   "source": [
    "PT3.columns"
   ]
  },
  {
   "cell_type": "code",
   "execution_count": 101,
   "metadata": {},
   "outputs": [],
   "source": [
    "PT4 = df1[['customer_id', 'Age',  'gender','is_foreigner', 'push_permission']]\\\n",
    "                .drop_duplicates(['customer_id']).sort_values(by='customer_id').reset_index().drop(['index'], axis=1)"
   ]
  },
  {
   "cell_type": "code",
   "execution_count": 102,
   "metadata": {},
   "outputs": [
    {
     "data": {
      "text/plain": [
       "(544921, 5)"
      ]
     },
     "execution_count": 102,
     "metadata": {},
     "output_type": "execute_result"
    }
   ],
   "source": [
    "PT4.shape"
   ]
  },
  {
   "cell_type": "code",
   "execution_count": 103,
   "metadata": {},
   "outputs": [
    {
     "data": {
      "text/html": [
       "<div>\n",
       "<style scoped>\n",
       "    .dataframe tbody tr th:only-of-type {\n",
       "        vertical-align: middle;\n",
       "    }\n",
       "\n",
       "    .dataframe tbody tr th {\n",
       "        vertical-align: top;\n",
       "    }\n",
       "\n",
       "    .dataframe thead th {\n",
       "        text-align: right;\n",
       "    }\n",
       "</style>\n",
       "<table border=\"1\" class=\"dataframe\">\n",
       "  <thead>\n",
       "    <tr style=\"text-align: right;\">\n",
       "      <th></th>\n",
       "      <th>customer_id</th>\n",
       "      <th>Age</th>\n",
       "      <th>gender</th>\n",
       "      <th>is_foreigner</th>\n",
       "      <th>push_permission</th>\n",
       "    </tr>\n",
       "  </thead>\n",
       "  <tbody>\n",
       "    <tr>\n",
       "      <th>0</th>\n",
       "      <td>1</td>\n",
       "      <td>35</td>\n",
       "      <td>female</td>\n",
       "      <td>False</td>\n",
       "      <td>False</td>\n",
       "    </tr>\n",
       "    <tr>\n",
       "      <th>1</th>\n",
       "      <td>2</td>\n",
       "      <td>26</td>\n",
       "      <td>female</td>\n",
       "      <td>False</td>\n",
       "      <td>False</td>\n",
       "    </tr>\n",
       "  </tbody>\n",
       "</table>\n",
       "</div>"
      ],
      "text/plain": [
       "   customer_id  Age  gender  is_foreigner  push_permission\n",
       "0            1   35  female         False            False\n",
       "1            2   26  female         False            False"
      ]
     },
     "execution_count": 103,
     "metadata": {},
     "output_type": "execute_result"
    }
   ],
   "source": [
    "PT4.head(2)"
   ]
  },
  {
   "cell_type": "code",
   "execution_count": 104,
   "metadata": {},
   "outputs": [
    {
     "data": {
      "text/plain": [
       "(544921, 5)"
      ]
     },
     "execution_count": 104,
     "metadata": {},
     "output_type": "execute_result"
    }
   ],
   "source": [
    "PT4.shape"
   ]
  },
  {
   "cell_type": "code",
   "execution_count": 105,
   "metadata": {},
   "outputs": [],
   "source": [
    "#첫거래 가맹점 - 정렬(by Cus_ID, 신규일시, 주문일시) -> Grouping Cus_id, 1st 주문, 신규 -> 주문일-신규일 차이\n",
    "# 첫거래로 들어오는 가맹점??\n",
    "PT5 = df1[['customer_id', 'sign_up_date', 'created_at', 'merchant_id']].sort_values(by=['customer_id', 'created_at'])\n",
    "PT6 = PT5.drop_duplicates(subset = ['customer_id'])\n",
    "\n",
    "# .drop_duplicates(['customer_id']).sort_values(by='customer_id').reset_index().drop(['index'], axis=1)"
   ]
  },
  {
   "cell_type": "code",
   "execution_count": 106,
   "metadata": {},
   "outputs": [
    {
     "data": {
      "text/html": [
       "<div>\n",
       "<style scoped>\n",
       "    .dataframe tbody tr th:only-of-type {\n",
       "        vertical-align: middle;\n",
       "    }\n",
       "\n",
       "    .dataframe tbody tr th {\n",
       "        vertical-align: top;\n",
       "    }\n",
       "\n",
       "    .dataframe thead th {\n",
       "        text-align: right;\n",
       "    }\n",
       "</style>\n",
       "<table border=\"1\" class=\"dataframe\">\n",
       "  <thead>\n",
       "    <tr style=\"text-align: right;\">\n",
       "      <th></th>\n",
       "      <th>customer_id</th>\n",
       "      <th>sign_up_date</th>\n",
       "      <th>created_at</th>\n",
       "      <th>merchant_id</th>\n",
       "    </tr>\n",
       "  </thead>\n",
       "  <tbody>\n",
       "    <tr>\n",
       "      <th>2558729</th>\n",
       "      <td>1</td>\n",
       "      <td>2019-08-25 18:28:34.815</td>\n",
       "      <td>2019-08-25 18:41:15.118</td>\n",
       "      <td>6</td>\n",
       "    </tr>\n",
       "    <tr>\n",
       "      <th>4781666</th>\n",
       "      <td>2</td>\n",
       "      <td>2019-08-09 17:16:59.757</td>\n",
       "      <td>2019-08-09 17:19:03.797</td>\n",
       "      <td>9</td>\n",
       "    </tr>\n",
       "  </tbody>\n",
       "</table>\n",
       "</div>"
      ],
      "text/plain": [
       "         customer_id             sign_up_date               created_at  \\\n",
       "2558729            1  2019-08-25 18:28:34.815  2019-08-25 18:41:15.118   \n",
       "4781666            2  2019-08-09 17:16:59.757  2019-08-09 17:19:03.797   \n",
       "\n",
       "         merchant_id  \n",
       "2558729            6  \n",
       "4781666            9  "
      ]
     },
     "execution_count": 106,
     "metadata": {},
     "output_type": "execute_result"
    }
   ],
   "source": [
    "PT6.head(2)"
   ]
  },
  {
   "cell_type": "code",
   "execution_count": 107,
   "metadata": {},
   "outputs": [],
   "source": [
    "PT6 = PT6.reset_index().drop(['index'], axis=1)"
   ]
  },
  {
   "cell_type": "code",
   "execution_count": 108,
   "metadata": {},
   "outputs": [],
   "source": [
    "PTT1 = pd.merge(PT1,PT2,  how='left')\n",
    "PTT2 = pd.merge(PTT1,PT3,  how='left')\n",
    "PTT3 = pd.merge(PTT2,PT4,  how='left')\n",
    "PTT4 = pd.merge(PTT3,PT6, on='customer_id', how='left')\n",
    "#['cashback_amount', 'discount_amount', 'total_promotion']"
   ]
  },
  {
   "cell_type": "code",
   "execution_count": 109,
   "metadata": {},
   "outputs": [
    {
     "data": {
      "text/plain": [
       "Index(['index', 'customer_id', 'NoofMC', 'Ord_No', 'post_discount',\n",
       "       'total_promotion', 'Age', 'gender', 'is_foreigner', 'push_permission',\n",
       "       'sign_up_date', 'created_at', 'merchant_id'],\n",
       "      dtype='object')"
      ]
     },
     "execution_count": 109,
     "metadata": {},
     "output_type": "execute_result"
    }
   ],
   "source": [
    "PTT4.columns"
   ]
  },
  {
   "cell_type": "code",
   "execution_count": 110,
   "metadata": {},
   "outputs": [
    {
     "data": {
      "text/plain": [
       "(544921, 13)"
      ]
     },
     "execution_count": 110,
     "metadata": {},
     "output_type": "execute_result"
    }
   ],
   "source": [
    "PTT4.shape"
   ]
  },
  {
   "cell_type": "code",
   "execution_count": 111,
   "metadata": {
    "collapsed": true
   },
   "outputs": [
    {
     "data": {
      "text/html": [
       "<div>\n",
       "<style scoped>\n",
       "    .dataframe tbody tr th:only-of-type {\n",
       "        vertical-align: middle;\n",
       "    }\n",
       "\n",
       "    .dataframe tbody tr th {\n",
       "        vertical-align: top;\n",
       "    }\n",
       "\n",
       "    .dataframe thead th {\n",
       "        text-align: right;\n",
       "    }\n",
       "</style>\n",
       "<table border=\"1\" class=\"dataframe\">\n",
       "  <thead>\n",
       "    <tr style=\"text-align: right;\">\n",
       "      <th></th>\n",
       "      <th>index</th>\n",
       "      <th>customer_id</th>\n",
       "      <th>NoofMC</th>\n",
       "      <th>Ord_No</th>\n",
       "      <th>post_discount</th>\n",
       "      <th>total_promotion</th>\n",
       "      <th>Age</th>\n",
       "      <th>gender</th>\n",
       "      <th>is_foreigner</th>\n",
       "      <th>push_permission</th>\n",
       "      <th>sign_up_date</th>\n",
       "      <th>created_at</th>\n",
       "      <th>merchant_id</th>\n",
       "    </tr>\n",
       "  </thead>\n",
       "  <tbody>\n",
       "    <tr>\n",
       "      <th>0</th>\n",
       "      <td>0</td>\n",
       "      <td>1</td>\n",
       "      <td>2</td>\n",
       "      <td>2</td>\n",
       "      <td>18960</td>\n",
       "      <td>5370</td>\n",
       "      <td>35</td>\n",
       "      <td>female</td>\n",
       "      <td>False</td>\n",
       "      <td>False</td>\n",
       "      <td>2019-08-25 18:28:34.815</td>\n",
       "      <td>2019-08-25 18:41:15.118</td>\n",
       "      <td>6</td>\n",
       "    </tr>\n",
       "    <tr>\n",
       "      <th>1</th>\n",
       "      <td>1</td>\n",
       "      <td>2</td>\n",
       "      <td>2</td>\n",
       "      <td>2</td>\n",
       "      <td>19359</td>\n",
       "      <td>5671</td>\n",
       "      <td>26</td>\n",
       "      <td>female</td>\n",
       "      <td>False</td>\n",
       "      <td>False</td>\n",
       "      <td>2019-08-09 17:16:59.757</td>\n",
       "      <td>2019-08-09 17:19:03.797</td>\n",
       "      <td>9</td>\n",
       "    </tr>\n",
       "    <tr>\n",
       "      <th>2</th>\n",
       "      <td>2</td>\n",
       "      <td>3</td>\n",
       "      <td>1</td>\n",
       "      <td>1</td>\n",
       "      <td>13440</td>\n",
       "      <td>4680</td>\n",
       "      <td>40</td>\n",
       "      <td>male</td>\n",
       "      <td>False</td>\n",
       "      <td>True</td>\n",
       "      <td>2019-08-24 16:43:13.693</td>\n",
       "      <td>2019-08-24 16:40:55.26</td>\n",
       "      <td>4</td>\n",
       "    </tr>\n",
       "    <tr>\n",
       "      <th>3</th>\n",
       "      <td>3</td>\n",
       "      <td>4</td>\n",
       "      <td>5</td>\n",
       "      <td>8</td>\n",
       "      <td>216980</td>\n",
       "      <td>10660</td>\n",
       "      <td>35</td>\n",
       "      <td>male</td>\n",
       "      <td>False</td>\n",
       "      <td>True</td>\n",
       "      <td>2019-07-27 20:35:40.581</td>\n",
       "      <td>2019-10-03 16:26:20.064</td>\n",
       "      <td>5</td>\n",
       "    </tr>\n",
       "    <tr>\n",
       "      <th>4</th>\n",
       "      <td>4</td>\n",
       "      <td>5</td>\n",
       "      <td>4</td>\n",
       "      <td>6</td>\n",
       "      <td>55170</td>\n",
       "      <td>10000</td>\n",
       "      <td>44</td>\n",
       "      <td>female</td>\n",
       "      <td>False</td>\n",
       "      <td>True</td>\n",
       "      <td>2020-01-11 12:28:23.167</td>\n",
       "      <td>2020-01-11 12:27:51.707</td>\n",
       "      <td>7</td>\n",
       "    </tr>\n",
       "    <tr>\n",
       "      <th>5</th>\n",
       "      <td>5</td>\n",
       "      <td>6</td>\n",
       "      <td>2</td>\n",
       "      <td>2</td>\n",
       "      <td>27600</td>\n",
       "      <td>4000</td>\n",
       "      <td>30</td>\n",
       "      <td>female</td>\n",
       "      <td>False</td>\n",
       "      <td>False</td>\n",
       "      <td>2020-02-27 10:23:47.514</td>\n",
       "      <td>2020-02-27 10:25:55.706</td>\n",
       "      <td>5</td>\n",
       "    </tr>\n",
       "    <tr>\n",
       "      <th>6</th>\n",
       "      <td>6</td>\n",
       "      <td>7</td>\n",
       "      <td>1</td>\n",
       "      <td>1</td>\n",
       "      <td>14900</td>\n",
       "      <td>0</td>\n",
       "      <td>38</td>\n",
       "      <td>male</td>\n",
       "      <td>False</td>\n",
       "      <td>False</td>\n",
       "      <td>2019-06-13 12:40:07.806</td>\n",
       "      <td>2020-03-10 08:03:56.192</td>\n",
       "      <td>2</td>\n",
       "    </tr>\n",
       "    <tr>\n",
       "      <th>7</th>\n",
       "      <td>7</td>\n",
       "      <td>8</td>\n",
       "      <td>1</td>\n",
       "      <td>1</td>\n",
       "      <td>82000</td>\n",
       "      <td>3000</td>\n",
       "      <td>34</td>\n",
       "      <td>female</td>\n",
       "      <td>False</td>\n",
       "      <td>False</td>\n",
       "      <td>2020-01-22 15:18:14.765</td>\n",
       "      <td>2020-01-22 15:17:06.887</td>\n",
       "      <td>8</td>\n",
       "    </tr>\n",
       "    <tr>\n",
       "      <th>8</th>\n",
       "      <td>8</td>\n",
       "      <td>9</td>\n",
       "      <td>1</td>\n",
       "      <td>1</td>\n",
       "      <td>20100</td>\n",
       "      <td>10000</td>\n",
       "      <td>23</td>\n",
       "      <td>female</td>\n",
       "      <td>False</td>\n",
       "      <td>True</td>\n",
       "      <td>2019-08-31 11:21:44.275</td>\n",
       "      <td>2019-08-31 11:25:59.75</td>\n",
       "      <td>2</td>\n",
       "    </tr>\n",
       "    <tr>\n",
       "      <th>9</th>\n",
       "      <td>9</td>\n",
       "      <td>10</td>\n",
       "      <td>2</td>\n",
       "      <td>2</td>\n",
       "      <td>22590</td>\n",
       "      <td>2560</td>\n",
       "      <td>32</td>\n",
       "      <td>female</td>\n",
       "      <td>False</td>\n",
       "      <td>False</td>\n",
       "      <td>2020-02-05 12:06:26.141</td>\n",
       "      <td>2020-02-05 12:11:42.293</td>\n",
       "      <td>5</td>\n",
       "    </tr>\n",
       "    <tr>\n",
       "      <th>10</th>\n",
       "      <td>10</td>\n",
       "      <td>11</td>\n",
       "      <td>6</td>\n",
       "      <td>8</td>\n",
       "      <td>957600</td>\n",
       "      <td>40700</td>\n",
       "      <td>29</td>\n",
       "      <td>male</td>\n",
       "      <td>False</td>\n",
       "      <td>False</td>\n",
       "      <td>2019-11-09 23:14:10.77</td>\n",
       "      <td>2019-11-09 23:15:14.471</td>\n",
       "      <td>2</td>\n",
       "    </tr>\n",
       "    <tr>\n",
       "      <th>11</th>\n",
       "      <td>11</td>\n",
       "      <td>12</td>\n",
       "      <td>2</td>\n",
       "      <td>2</td>\n",
       "      <td>19019</td>\n",
       "      <td>2641</td>\n",
       "      <td>25</td>\n",
       "      <td>female</td>\n",
       "      <td>False</td>\n",
       "      <td>True</td>\n",
       "      <td>2019-10-23 12:11:22.166</td>\n",
       "      <td>2019-10-23 12:10:18.768</td>\n",
       "      <td>1</td>\n",
       "    </tr>\n",
       "    <tr>\n",
       "      <th>12</th>\n",
       "      <td>12</td>\n",
       "      <td>13</td>\n",
       "      <td>1</td>\n",
       "      <td>2</td>\n",
       "      <td>22944</td>\n",
       "      <td>4368</td>\n",
       "      <td>40</td>\n",
       "      <td>female</td>\n",
       "      <td>False</td>\n",
       "      <td>True</td>\n",
       "      <td>2019-08-07 00:57:59.319</td>\n",
       "      <td>2019-08-07 00:59:55.842</td>\n",
       "      <td>3</td>\n",
       "    </tr>\n",
       "    <tr>\n",
       "      <th>13</th>\n",
       "      <td>13</td>\n",
       "      <td>14</td>\n",
       "      <td>4</td>\n",
       "      <td>4</td>\n",
       "      <td>11600</td>\n",
       "      <td>8000</td>\n",
       "      <td>38</td>\n",
       "      <td>male</td>\n",
       "      <td>False</td>\n",
       "      <td>False</td>\n",
       "      <td>2020-01-14 00:58:22.057</td>\n",
       "      <td>2020-01-14 00:56:51.839</td>\n",
       "      <td>5</td>\n",
       "    </tr>\n",
       "    <tr>\n",
       "      <th>14</th>\n",
       "      <td>14</td>\n",
       "      <td>15</td>\n",
       "      <td>5</td>\n",
       "      <td>9</td>\n",
       "      <td>167866</td>\n",
       "      <td>10210</td>\n",
       "      <td>23</td>\n",
       "      <td>female</td>\n",
       "      <td>False</td>\n",
       "      <td>True</td>\n",
       "      <td>2019-09-22 10:48:43.746</td>\n",
       "      <td>2019-09-22 10:51:25.273</td>\n",
       "      <td>3</td>\n",
       "    </tr>\n",
       "    <tr>\n",
       "      <th>15</th>\n",
       "      <td>15</td>\n",
       "      <td>16</td>\n",
       "      <td>3</td>\n",
       "      <td>3</td>\n",
       "      <td>34660</td>\n",
       "      <td>5770</td>\n",
       "      <td>47</td>\n",
       "      <td>female</td>\n",
       "      <td>False</td>\n",
       "      <td>True</td>\n",
       "      <td>2019-09-01 23:02:51.627</td>\n",
       "      <td>2019-09-13 13:02:01.857</td>\n",
       "      <td>9</td>\n",
       "    </tr>\n",
       "    <tr>\n",
       "      <th>16</th>\n",
       "      <td>16</td>\n",
       "      <td>17</td>\n",
       "      <td>7</td>\n",
       "      <td>8</td>\n",
       "      <td>70479</td>\n",
       "      <td>6970</td>\n",
       "      <td>21</td>\n",
       "      <td>female</td>\n",
       "      <td>False</td>\n",
       "      <td>False</td>\n",
       "      <td>2019-10-05 16:27:32.685</td>\n",
       "      <td>2019-10-05 16:36:14.271</td>\n",
       "      <td>5</td>\n",
       "    </tr>\n",
       "    <tr>\n",
       "      <th>17</th>\n",
       "      <td>17</td>\n",
       "      <td>18</td>\n",
       "      <td>2</td>\n",
       "      <td>2</td>\n",
       "      <td>50400</td>\n",
       "      <td>4000</td>\n",
       "      <td>38</td>\n",
       "      <td>male</td>\n",
       "      <td>False</td>\n",
       "      <td>False</td>\n",
       "      <td>2019-11-30 13:30:50.721</td>\n",
       "      <td>2020-01-12 20:39:04.417</td>\n",
       "      <td>9</td>\n",
       "    </tr>\n",
       "    <tr>\n",
       "      <th>18</th>\n",
       "      <td>18</td>\n",
       "      <td>19</td>\n",
       "      <td>2</td>\n",
       "      <td>2</td>\n",
       "      <td>45600</td>\n",
       "      <td>5950</td>\n",
       "      <td>26</td>\n",
       "      <td>female</td>\n",
       "      <td>False</td>\n",
       "      <td>False</td>\n",
       "      <td>2019-06-18 15:34:48.635</td>\n",
       "      <td>2019-08-10 16:28:03.401</td>\n",
       "      <td>2</td>\n",
       "    </tr>\n",
       "    <tr>\n",
       "      <th>19</th>\n",
       "      <td>19</td>\n",
       "      <td>20</td>\n",
       "      <td>2</td>\n",
       "      <td>2</td>\n",
       "      <td>18800</td>\n",
       "      <td>2297</td>\n",
       "      <td>31</td>\n",
       "      <td>male</td>\n",
       "      <td>False</td>\n",
       "      <td>True</td>\n",
       "      <td>2020-02-26 04:59:33.534</td>\n",
       "      <td>2020-02-26 05:06:18.618</td>\n",
       "      <td>7</td>\n",
       "    </tr>\n",
       "  </tbody>\n",
       "</table>\n",
       "</div>"
      ],
      "text/plain": [
       "    index  customer_id  NoofMC  Ord_No  post_discount  total_promotion  Age  \\\n",
       "0       0            1       2       2          18960             5370   35   \n",
       "1       1            2       2       2          19359             5671   26   \n",
       "2       2            3       1       1          13440             4680   40   \n",
       "3       3            4       5       8         216980            10660   35   \n",
       "4       4            5       4       6          55170            10000   44   \n",
       "5       5            6       2       2          27600             4000   30   \n",
       "6       6            7       1       1          14900                0   38   \n",
       "7       7            8       1       1          82000             3000   34   \n",
       "8       8            9       1       1          20100            10000   23   \n",
       "9       9           10       2       2          22590             2560   32   \n",
       "10     10           11       6       8         957600            40700   29   \n",
       "11     11           12       2       2          19019             2641   25   \n",
       "12     12           13       1       2          22944             4368   40   \n",
       "13     13           14       4       4          11600             8000   38   \n",
       "14     14           15       5       9         167866            10210   23   \n",
       "15     15           16       3       3          34660             5770   47   \n",
       "16     16           17       7       8          70479             6970   21   \n",
       "17     17           18       2       2          50400             4000   38   \n",
       "18     18           19       2       2          45600             5950   26   \n",
       "19     19           20       2       2          18800             2297   31   \n",
       "\n",
       "    gender  is_foreigner  push_permission             sign_up_date  \\\n",
       "0   female         False            False  2019-08-25 18:28:34.815   \n",
       "1   female         False            False  2019-08-09 17:16:59.757   \n",
       "2     male         False             True  2019-08-24 16:43:13.693   \n",
       "3     male         False             True  2019-07-27 20:35:40.581   \n",
       "4   female         False             True  2020-01-11 12:28:23.167   \n",
       "5   female         False            False  2020-02-27 10:23:47.514   \n",
       "6     male         False            False  2019-06-13 12:40:07.806   \n",
       "7   female         False            False  2020-01-22 15:18:14.765   \n",
       "8   female         False             True  2019-08-31 11:21:44.275   \n",
       "9   female         False            False  2020-02-05 12:06:26.141   \n",
       "10    male         False            False   2019-11-09 23:14:10.77   \n",
       "11  female         False             True  2019-10-23 12:11:22.166   \n",
       "12  female         False             True  2019-08-07 00:57:59.319   \n",
       "13    male         False            False  2020-01-14 00:58:22.057   \n",
       "14  female         False             True  2019-09-22 10:48:43.746   \n",
       "15  female         False             True  2019-09-01 23:02:51.627   \n",
       "16  female         False            False  2019-10-05 16:27:32.685   \n",
       "17    male         False            False  2019-11-30 13:30:50.721   \n",
       "18  female         False            False  2019-06-18 15:34:48.635   \n",
       "19    male         False             True  2020-02-26 04:59:33.534   \n",
       "\n",
       "                 created_at  merchant_id  \n",
       "0   2019-08-25 18:41:15.118            6  \n",
       "1   2019-08-09 17:19:03.797            9  \n",
       "2    2019-08-24 16:40:55.26            4  \n",
       "3   2019-10-03 16:26:20.064            5  \n",
       "4   2020-01-11 12:27:51.707            7  \n",
       "5   2020-02-27 10:25:55.706            5  \n",
       "6   2020-03-10 08:03:56.192            2  \n",
       "7   2020-01-22 15:17:06.887            8  \n",
       "8    2019-08-31 11:25:59.75            2  \n",
       "9   2020-02-05 12:11:42.293            5  \n",
       "10  2019-11-09 23:15:14.471            2  \n",
       "11  2019-10-23 12:10:18.768            1  \n",
       "12  2019-08-07 00:59:55.842            3  \n",
       "13  2020-01-14 00:56:51.839            5  \n",
       "14  2019-09-22 10:51:25.273            3  \n",
       "15  2019-09-13 13:02:01.857            9  \n",
       "16  2019-10-05 16:36:14.271            5  \n",
       "17  2020-01-12 20:39:04.417            9  \n",
       "18  2019-08-10 16:28:03.401            2  \n",
       "19  2020-02-26 05:06:18.618            7  "
      ]
     },
     "execution_count": 111,
     "metadata": {},
     "output_type": "execute_result"
    }
   ],
   "source": [
    "PTT4.head(20)"
   ]
  },
  {
   "cell_type": "code",
   "execution_count": 112,
   "metadata": {},
   "outputs": [],
   "source": [
    "def date_function(row):\n",
    "    return row[0:10]\n",
    "\n",
    "PTT4['Ord_YMD']= pd.to_datetime(PTT4['created_at'].apply(date_function))\n",
    "PTT4['Iss_YMD']= pd.to_datetime(PTT4['sign_up_date'].apply(date_function))"
   ]
  },
  {
   "cell_type": "code",
   "execution_count": 113,
   "metadata": {},
   "outputs": [],
   "source": [
    "PTT4['Psd_D'] = PTT4['Ord_YMD']-PTT4['Iss_YMD']"
   ]
  },
  {
   "cell_type": "code",
   "execution_count": null,
   "metadata": {},
   "outputs": [],
   "source": [
    "PTT4.head(10)"
   ]
  },
  {
   "cell_type": "code",
   "execution_count": 115,
   "metadata": {},
   "outputs": [],
   "source": [
    "PTT4.to_excel('PTT4_BYCUS.xlsx')"
   ]
  },
  {
   "cell_type": "code",
   "execution_count": 122,
   "metadata": {
    "collapsed": true
   },
   "outputs": [
    {
     "name": "stderr",
     "output_type": "stream",
     "text": [
      "\n",
      "KeyboardInterrupt\n",
      "ERROR:root:Internal Python error in the inspect module.\n",
      "Below is the traceback from this internal error.\n",
      "\n"
     ]
    },
    {
     "name": "stdout",
     "output_type": "stream",
     "text": [
      "Traceback (most recent call last):\n",
      "  File \"C:\\Users\\WS\\anaconda3\\lib\\site-packages\\IPython\\core\\interactiveshell.py\", line 3331, in run_code\n",
      "    exec(code_obj, self.user_global_ns, self.user_ns)\n",
      "  File \"<ipython-input-123-772542622319>\", line 4, in <module>\n",
      "    sns.countplot(data=PTT4, x='customer_id',hue='merchant_id')\n",
      "  File \"C:\\Users\\WS\\anaconda3\\lib\\site-packages\\seaborn\\_decorators.py\", line 46, in inner_f\n",
      "    return f(**kwargs)\n",
      "  File \"C:\\Users\\WS\\anaconda3\\lib\\site-packages\\seaborn\\categorical.py\", line 3599, in countplot\n",
      "    errcolor, errwidth, capsize, dodge\n",
      "  File \"C:\\Users\\WS\\anaconda3\\lib\\site-packages\\seaborn\\categorical.py\", line 1587, in __init__\n",
      "    self.estimate_statistic(estimator, ci, n_boot, seed)\n",
      "  File \"C:\\Users\\WS\\anaconda3\\lib\\site-packages\\seaborn\\categorical.py\", line 1506, in estimate_statistic\n",
      "    stat_data = remove_na(group_data[hue_mask])\n",
      "  File \"C:\\Users\\WS\\anaconda3\\lib\\site-packages\\pandas\\core\\series.py\", line 871, in __getitem__\n",
      "    key = check_bool_indexer(self.index, key)\n",
      "  File \"C:\\Users\\WS\\anaconda3\\lib\\site-packages\\pandas\\core\\indexing.py\", line 2265, in check_bool_indexer\n",
      "    if isinstance(key, ABCSeries) and not key.index.equals(index):\n",
      "  File \"C:\\Users\\WS\\anaconda3\\lib\\site-packages\\pandas\\core\\indexes\\base.py\", line 4458, in equals\n",
      "    if is_object_dtype(self.dtype) and not is_object_dtype(other.dtype):\n",
      "  File \"C:\\Users\\WS\\anaconda3\\lib\\site-packages\\pandas\\core\\dtypes\\common.py\", line 201, in is_object_dtype\n",
      "    def is_object_dtype(arr_or_dtype) -> bool:\n",
      "KeyboardInterrupt\n",
      "\n",
      "During handling of the above exception, another exception occurred:\n",
      "\n",
      "Traceback (most recent call last):\n",
      "  File \"C:\\Users\\WS\\anaconda3\\lib\\site-packages\\IPython\\core\\interactiveshell.py\", line 2044, in showtraceback\n",
      "    stb = value._render_traceback_()\n",
      "AttributeError: 'KeyboardInterrupt' object has no attribute '_render_traceback_'\n",
      "\n",
      "During handling of the above exception, another exception occurred:\n",
      "\n",
      "Traceback (most recent call last):\n",
      "  File \"C:\\Users\\WS\\anaconda3\\lib\\site-packages\\IPython\\core\\interactiveshell.py\", line 2047, in showtraceback\n",
      "    value, tb, tb_offset=tb_offset)\n",
      "  File \"C:\\Users\\WS\\anaconda3\\lib\\site-packages\\IPython\\core\\ultratb.py\", line 1418, in structured_traceback\n",
      "    self, etype, value, tb, tb_offset, number_of_lines_of_context)\n",
      "  File \"C:\\Users\\WS\\anaconda3\\lib\\site-packages\\IPython\\core\\ultratb.py\", line 1318, in structured_traceback\n",
      "    self, etype, value, tb, tb_offset, number_of_lines_of_context\n",
      "  File \"C:\\Users\\WS\\anaconda3\\lib\\site-packages\\IPython\\core\\ultratb.py\", line 1175, in structured_traceback\n",
      "    tb_offset)\n",
      "  File \"C:\\Users\\WS\\anaconda3\\lib\\site-packages\\IPython\\core\\ultratb.py\", line 1126, in format_exception_as_a_whole\n",
      "    head = self.prepare_header(etype, self.long_header)\n",
      "  File \"C:\\Users\\WS\\anaconda3\\lib\\site-packages\\IPython\\core\\ultratb.py\", line 1080, in prepare_header\n",
      "    width = min(75, get_terminal_size()[0])\n",
      "  File \"C:\\Users\\WS\\anaconda3\\lib\\site-packages\\IPython\\utils\\terminal.py\", line 129, in get_terminal_size\n",
      "    return _get_terminal_size((defaultx, defaulty))\n",
      "  File \"C:\\Users\\WS\\anaconda3\\lib\\shutil.py\", line 1094, in get_terminal_size\n",
      "    columns = int(os.environ['COLUMNS'])\n",
      "  File \"C:\\Users\\WS\\anaconda3\\lib\\os.py\", line 676, in __getitem__\n",
      "    value = self._data[self.encodekey(key)]\n",
      "KeyboardInterrupt\n",
      "\n",
      "During handling of the above exception, another exception occurred:\n",
      "\n",
      "Traceback (most recent call last):\n",
      "  File \"C:\\Users\\WS\\anaconda3\\lib\\site-packages\\IPython\\core\\interactiveshell.py\", line 3254, in run_ast_nodes\n",
      "    if (await self.run_code(code, result,  async_=asy)):\n",
      "  File \"C:\\Users\\WS\\anaconda3\\lib\\site-packages\\IPython\\core\\interactiveshell.py\", line 3348, in run_code\n",
      "    self.showtraceback(running_compiled_code=True)\n",
      "  File \"C:\\Users\\WS\\anaconda3\\lib\\site-packages\\IPython\\core\\interactiveshell.py\", line 2059, in showtraceback\n",
      "    print('\\n' + self.get_exception_only(), file=sys.stderr)\n",
      "  File \"C:\\Users\\WS\\anaconda3\\lib\\site-packages\\ipykernel\\iostream.py\", line 402, in write\n",
      "    self.pub_thread.schedule(lambda : self._buffer.write(string))\n",
      "  File \"C:\\Users\\WS\\anaconda3\\lib\\site-packages\\ipykernel\\iostream.py\", line 205, in schedule\n",
      "    self._event_pipe.send(b'')\n",
      "  File \"C:\\Users\\WS\\anaconda3\\lib\\site-packages\\zmq\\sugar\\socket.py\", line 400, in send\n",
      "    return super(Socket, self).send(data, flags=flags, copy=copy, track=track)\n",
      "  File \"zmq/backend/cython/socket.pyx\", line 728, in zmq.backend.cython.socket.Socket.send\n",
      "  File \"zmq/backend/cython/socket.pyx\", line 775, in zmq.backend.cython.socket.Socket.send\n",
      "  File \"zmq/backend/cython/socket.pyx\", line 242, in zmq.backend.cython.socket._send_copy\n",
      "  File \"zmq/backend/cython/checkrc.pxd\", line 12, in zmq.backend.cython.checkrc._check_rc\n",
      "KeyboardInterrupt\n",
      "\n",
      "During handling of the above exception, another exception occurred:\n",
      "\n",
      "Traceback (most recent call last):\n",
      "  File \"C:\\Users\\WS\\anaconda3\\lib\\site-packages\\IPython\\core\\interactiveshell.py\", line 2044, in showtraceback\n",
      "    stb = value._render_traceback_()\n",
      "AttributeError: 'KeyboardInterrupt' object has no attribute '_render_traceback_'\n",
      "\n",
      "During handling of the above exception, another exception occurred:\n",
      "\n",
      "Traceback (most recent call last):\n",
      "  File \"C:\\Users\\WS\\anaconda3\\lib\\site-packages\\IPython\\core\\ultratb.py\", line 1151, in get_records\n",
      "    return _fixed_getinnerframes(etb, number_of_lines_of_context, tb_offset)\n",
      "  File \"C:\\Users\\WS\\anaconda3\\lib\\site-packages\\IPython\\core\\ultratb.py\", line 319, in wrapped\n",
      "    return f(*args, **kwargs)\n",
      "  File \"C:\\Users\\WS\\anaconda3\\lib\\site-packages\\IPython\\core\\ultratb.py\", line 353, in _fixed_getinnerframes\n",
      "    records = fix_frame_records_filenames(inspect.getinnerframes(etb, context))\n",
      "  File \"C:\\Users\\WS\\anaconda3\\lib\\inspect.py\", line 1502, in getinnerframes\n",
      "    frameinfo = (tb.tb_frame,) + getframeinfo(tb, context)\n",
      "  File \"C:\\Users\\WS\\anaconda3\\lib\\inspect.py\", line 1460, in getframeinfo\n",
      "    filename = getsourcefile(frame) or getfile(frame)\n",
      "  File \"C:\\Users\\WS\\anaconda3\\lib\\inspect.py\", line 696, in getsourcefile\n",
      "    if getattr(getmodule(object, filename), '__loader__', None) is not None:\n",
      "  File \"C:\\Users\\WS\\anaconda3\\lib\\inspect.py\", line 732, in getmodule\n",
      "    for modname, module in list(sys.modules.items()):\n",
      "KeyboardInterrupt\n"
     ]
    },
    {
     "name": "stderr",
     "output_type": "stream",
     "text": [
      "\n",
      "KeyboardInterrupt\n",
      "\n"
     ]
    }
   ],
   "source": [
    "#sns.countplot(data=PTT4, x='merchant_id')\n",
    "#sns.countplot(data=PTT4, x='Ord_No',hue='merchant_id')\n",
    "#sns.histplot(data=PTT4, x='Psd_D')\n",
    "sns.countplot(data=PTT4, x='customer_id',hue='merchant_id')\n",
    "#sns.barplot(data=PTT4, x='product',y='age')\n",
    "#sns.lineplot(data=PTT4,x='datetime(timestmp)',y='amount')"
   ]
  },
  {
   "cell_type": "code",
   "execution_count": 123,
   "metadata": {},
   "outputs": [
    {
     "name": "stdout",
     "output_type": "stream",
     "text": [
      "ERROR! Session/line number was not unique in database. History logging moved to new session 422\n"
     ]
    },
    {
     "name": "stderr",
     "output_type": "stream",
     "text": [
      "\n",
      "KeyboardInterrupt\n",
      "\n"
     ]
    }
   ],
   "source": [
    "sns.countplot(data=PTT4, x='customer_id',hue='merchant_id')"
   ]
  },
  {
   "cell_type": "code",
   "execution_count": null,
   "metadata": {},
   "outputs": [],
   "source": []
  }
 ],
 "metadata": {
  "kernelspec": {
   "display_name": "Python 3",
   "language": "python",
   "name": "python3"
  },
  "language_info": {
   "codemirror_mode": {
    "name": "ipython",
    "version": 3
   },
   "file_extension": ".py",
   "mimetype": "text/x-python",
   "name": "python",
   "nbconvert_exporter": "python",
   "pygments_lexer": "ipython3",
   "version": "3.7.6"
  }
 },
 "nbformat": 4,
 "nbformat_minor": 4
}
